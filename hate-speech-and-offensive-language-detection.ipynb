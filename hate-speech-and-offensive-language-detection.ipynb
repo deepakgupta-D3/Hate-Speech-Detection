{
 "cells": [
  {
   "cell_type": "code",
   "execution_count": 2,
   "id": "7ceaa0ae",
   "metadata": {
    "_cell_guid": "b1076dfc-b9ad-4769-8c92-a6c4dae69d19",
    "_uuid": "8f2839f25d086af736a60e9eeb907d3b93b6e0e5",
    "execution": {
     "iopub.execute_input": "2023-12-14T19:09:14.219463Z",
     "iopub.status.busy": "2023-12-14T19:09:14.218624Z",
     "iopub.status.idle": "2023-12-14T19:09:14.933895Z",
     "shell.execute_reply": "2023-12-14T19:09:14.932822Z"
    },
    "papermill": {
     "duration": 0.725805,
     "end_time": "2023-12-14T19:09:14.936097",
     "exception": false,
     "start_time": "2023-12-14T19:09:14.210292",
     "status": "completed"
    },
    "tags": []
   },
   "outputs": [
    {
     "name": "stdout",
     "output_type": "stream",
     "text": [
      "./kaggle/input/hate-speech-and-offensive-language-detection/.DS_Store\n",
      "./kaggle/input/hate-speech-and-offensive-language-detection/train.csv\n"
     ]
    }
   ],
   "source": [
    "# This Python 3 environment comes with many helpful analytics libraries installed\n",
    "# It is defined by the kaggle/python Docker image: https://github.com/kaggle/docker-python\n",
    "# For example, here's several helpful packages to load\n",
    "\n",
    "import numpy as np # linear algebra\n",
    "import pandas as pd # data processing, CSV file I/O (e.g. pd.read_csv)\n",
    "\n",
    "# Input data files are available in the read-only \"../input/\" directory\n",
    "# For example, running this (by clicking run or pressing Shift+Enter) will list all files under the input directory\n",
    "\n",
    "import os\n",
    "for dirname, _, filenames in os.walk('./kaggle/input'):\n",
    "    for filename in filenames:\n",
    "        print(os.path.join(dirname, filename))\n",
    "\n",
    "# You can write up to 20GB to the current directory (/kaggle/working/) that gets preserved as output when you create a version using \"Save & Run All\" \n",
    "# You can also write temporary files to /kaggle/temp/, but they won't be saved outside of the current session"
   ]
  },
  {
   "cell_type": "markdown",
   "id": "e369888d",
   "metadata": {
    "papermill": {
     "duration": 0.006026,
     "end_time": "2023-12-14T19:09:14.948726",
     "exception": false,
     "start_time": "2023-12-14T19:09:14.942700",
     "status": "completed"
    },
    "tags": []
   },
   "source": [
    "# Steps:\n",
    "1) preprocessing\n",
    "2) splitting\n",
    "3) tokenize & padding\n",
    "4) Create model & train\n",
    "5) evaluate\n",
    "\n",
    "# Preprocessing (cleaning the datasets):\n",
    "\n",
    "1) remove html entity\n",
    "2) change user tags (@xxx -> user)\n",
    "3) remove urls\n",
    "4) remove unnecessary symbol ('', !, \", ') -> cause a lot of noise in the dataset\n",
    "5) remove stopwords"
   ]
  },
  {
   "cell_type": "markdown",
   "id": "668587ef",
   "metadata": {
    "papermill": {
     "duration": 0.005948,
     "end_time": "2023-12-14T19:09:14.961120",
     "exception": false,
     "start_time": "2023-12-14T19:09:14.955172",
     "status": "completed"
    },
    "tags": []
   },
   "source": [
    "# 1| Import libraries"
   ]
  },
  {
   "cell_type": "code",
   "execution_count": 3,
   "id": "ab75e763",
   "metadata": {
    "execution": {
     "iopub.execute_input": "2023-12-14T19:09:14.975014Z",
     "iopub.status.busy": "2023-12-14T19:09:14.974260Z",
     "iopub.status.idle": "2023-12-14T19:09:27.139784Z",
     "shell.execute_reply": "2023-12-14T19:09:27.138979Z"
    },
    "papermill": {
     "duration": 12.17501,
     "end_time": "2023-12-14T19:09:27.142267",
     "exception": false,
     "start_time": "2023-12-14T19:09:14.967257",
     "status": "completed"
    },
    "tags": []
   },
   "outputs": [],
   "source": [
    "import pandas as pd # read the csv\n",
    "import re # regex to detect username, url, html entity \n",
    "import nltk # to use word tokenize (split the sentence into words)\n",
    "from nltk.corpus import stopwords # to remove the stopwords\n",
    "from sklearn.model_selection import train_test_split\n",
    "from tensorflow.keras.preprocessing.text import Tokenizer\n",
    "from tensorflow.keras.preprocessing.sequence import pad_sequences\n",
    "from tensorflow.keras.models import Sequential\n",
    "from tensorflow.keras.layers import Embedding, LSTM, Dense, Dropout\n",
    "\n",
    "from keras.utils import to_categorical\n",
    "from keras import backend as K"
   ]
  },
  {
   "cell_type": "code",
   "execution_count": 4,
   "id": "434e8e28",
   "metadata": {},
   "outputs": [
    {
     "name": "stderr",
     "output_type": "stream",
     "text": [
      "[nltk_data] Downloading package punkt_tab to\n",
      "[nltk_data]     /Users/deepakkumar/nltk_data...\n",
      "[nltk_data]   Package punkt_tab is already up-to-date!\n"
     ]
    },
    {
     "data": {
      "text/plain": [
       "True"
      ]
     },
     "execution_count": 4,
     "metadata": {},
     "output_type": "execute_result"
    }
   ],
   "source": [
    "import nltk\n",
    "nltk.download(\"punkt_tab\")"
   ]
  },
  {
   "cell_type": "markdown",
   "id": "8d6c8588",
   "metadata": {
    "papermill": {
     "duration": 0.006227,
     "end_time": "2023-12-14T19:09:27.155057",
     "exception": false,
     "start_time": "2023-12-14T19:09:27.148830",
     "status": "completed"
    },
    "tags": []
   },
   "source": [
    "# 2| read the data"
   ]
  },
  {
   "cell_type": "code",
   "execution_count": 5,
   "id": "10a5773f",
   "metadata": {
    "execution": {
     "iopub.execute_input": "2023-12-14T19:09:27.169214Z",
     "iopub.status.busy": "2023-12-14T19:09:27.168601Z",
     "iopub.status.idle": "2023-12-14T19:09:27.259433Z",
     "shell.execute_reply": "2023-12-14T19:09:27.258479Z"
    },
    "papermill": {
     "duration": 0.100274,
     "end_time": "2023-12-14T19:09:27.261585",
     "exception": false,
     "start_time": "2023-12-14T19:09:27.161311",
     "status": "completed"
    },
    "tags": []
   },
   "outputs": [
    {
     "data": {
      "text/html": [
       "<div>\n",
       "<style scoped>\n",
       "    .dataframe tbody tr th:only-of-type {\n",
       "        vertical-align: middle;\n",
       "    }\n",
       "\n",
       "    .dataframe tbody tr th {\n",
       "        vertical-align: top;\n",
       "    }\n",
       "\n",
       "    .dataframe thead th {\n",
       "        text-align: right;\n",
       "    }\n",
       "</style>\n",
       "<table border=\"1\" class=\"dataframe\">\n",
       "  <thead>\n",
       "    <tr style=\"text-align: right;\">\n",
       "      <th></th>\n",
       "      <th>count</th>\n",
       "      <th>hate_speech_count</th>\n",
       "      <th>offensive_language_count</th>\n",
       "      <th>neither_count</th>\n",
       "      <th>class</th>\n",
       "      <th>tweet</th>\n",
       "    </tr>\n",
       "  </thead>\n",
       "  <tbody>\n",
       "    <tr>\n",
       "      <th>0</th>\n",
       "      <td>3</td>\n",
       "      <td>0</td>\n",
       "      <td>0</td>\n",
       "      <td>3</td>\n",
       "      <td>2</td>\n",
       "      <td>!!! RT @mayasolovely: As a woman you shouldn't...</td>\n",
       "    </tr>\n",
       "    <tr>\n",
       "      <th>1</th>\n",
       "      <td>3</td>\n",
       "      <td>0</td>\n",
       "      <td>3</td>\n",
       "      <td>0</td>\n",
       "      <td>1</td>\n",
       "      <td>!!!!! RT @mleew17: boy dats cold...tyga dwn ba...</td>\n",
       "    </tr>\n",
       "    <tr>\n",
       "      <th>2</th>\n",
       "      <td>3</td>\n",
       "      <td>0</td>\n",
       "      <td>3</td>\n",
       "      <td>0</td>\n",
       "      <td>1</td>\n",
       "      <td>!!!!!!! RT @UrKindOfBrand Dawg!!!! RT @80sbaby...</td>\n",
       "    </tr>\n",
       "    <tr>\n",
       "      <th>3</th>\n",
       "      <td>3</td>\n",
       "      <td>0</td>\n",
       "      <td>2</td>\n",
       "      <td>1</td>\n",
       "      <td>1</td>\n",
       "      <td>!!!!!!!!! RT @C_G_Anderson: @viva_based she lo...</td>\n",
       "    </tr>\n",
       "    <tr>\n",
       "      <th>4</th>\n",
       "      <td>6</td>\n",
       "      <td>0</td>\n",
       "      <td>6</td>\n",
       "      <td>0</td>\n",
       "      <td>1</td>\n",
       "      <td>!!!!!!!!!!!!! RT @ShenikaRoberts: The shit you...</td>\n",
       "    </tr>\n",
       "  </tbody>\n",
       "</table>\n",
       "</div>"
      ],
      "text/plain": [
       "   count  hate_speech_count  offensive_language_count  neither_count  class  \\\n",
       "0      3                  0                         0              3      2   \n",
       "1      3                  0                         3              0      1   \n",
       "2      3                  0                         3              0      1   \n",
       "3      3                  0                         2              1      1   \n",
       "4      6                  0                         6              0      1   \n",
       "\n",
       "                                               tweet  \n",
       "0  !!! RT @mayasolovely: As a woman you shouldn't...  \n",
       "1  !!!!! RT @mleew17: boy dats cold...tyga dwn ba...  \n",
       "2  !!!!!!! RT @UrKindOfBrand Dawg!!!! RT @80sbaby...  \n",
       "3  !!!!!!!!! RT @C_G_Anderson: @viva_based she lo...  \n",
       "4  !!!!!!!!!!!!! RT @ShenikaRoberts: The shit you...  "
      ]
     },
     "execution_count": 5,
     "metadata": {},
     "output_type": "execute_result"
    }
   ],
   "source": [
    "data = pd.read_csv(\"./kaggle/input/hate-speech-and-offensive-language-detection/train.csv\")\n",
    "\n",
    "data.head()"
   ]
  },
  {
   "cell_type": "code",
   "execution_count": 6,
   "id": "98ebc0f7",
   "metadata": {
    "execution": {
     "iopub.execute_input": "2023-12-14T19:09:27.276501Z",
     "iopub.status.busy": "2023-12-14T19:09:27.276198Z",
     "iopub.status.idle": "2023-12-14T19:09:27.287236Z",
     "shell.execute_reply": "2023-12-14T19:09:27.286359Z"
    },
    "papermill": {
     "duration": 0.020652,
     "end_time": "2023-12-14T19:09:27.289495",
     "exception": false,
     "start_time": "2023-12-14T19:09:27.268843",
     "status": "completed"
    },
    "tags": []
   },
   "outputs": [
    {
     "name": "stdout",
     "output_type": "stream",
     "text": [
      "num of tweets: (24783, 6)\n"
     ]
    }
   ],
   "source": [
    "# dataset shape to know how many tweets in the datasets\n",
    "print(f\"num of tweets: {data.shape}\")\n",
    "\n",
    "# extract the text and labels\n",
    "tweet = list(data['tweet'])\n",
    "labels = list(data['class'])"
   ]
  },
  {
   "cell_type": "markdown",
   "id": "470cd1cf",
   "metadata": {
    "papermill": {
     "duration": 0.00636,
     "end_time": "2023-12-14T19:09:27.302322",
     "exception": false,
     "start_time": "2023-12-14T19:09:27.295962",
     "status": "completed"
    },
    "tags": []
   },
   "source": [
    "# 3| functions to clean the data"
   ]
  },
  {
   "cell_type": "code",
   "execution_count": 7,
   "id": "c1f83112",
   "metadata": {
    "execution": {
     "iopub.execute_input": "2023-12-14T19:09:27.316795Z",
     "iopub.status.busy": "2023-12-14T19:09:27.316123Z",
     "iopub.status.idle": "2023-12-14T19:09:27.330885Z",
     "shell.execute_reply": "2023-12-14T19:09:27.330222Z"
    },
    "papermill": {
     "duration": 0.023981,
     "end_time": "2023-12-14T19:09:27.332726",
     "exception": false,
     "start_time": "2023-12-14T19:09:27.308745",
     "status": "completed"
    },
    "tags": []
   },
   "outputs": [],
   "source": [
    "#notes : all of the function taking 1 text at a time\n",
    "stop_words = set(stopwords.words('english'))\n",
    "# add rt to remove retweet in dataset (noise)\n",
    "stop_words.add(\"rt\")\n",
    "\n",
    "# remove html entity:\n",
    "def remove_entity(raw_text):\n",
    "    entity_regex = r\"&[^\\s;]+;\"\n",
    "    text = re.sub(entity_regex, \"\", raw_text)\n",
    "    return text\n",
    "\n",
    "# change the user tags\n",
    "def change_user(raw_text):\n",
    "    regex = r\"@([^ ]+)\"\n",
    "    text = re.sub(regex, \"user\", raw_text)\n",
    "\n",
    "    return text\n",
    "\n",
    "# remove urls\n",
    "def remove_url(raw_text):\n",
    "    url_regex = r\"(?i)\\b((?:https?://|www\\d{0,3}[.]|[a-z0-9.\\-]+[.][a-z]{2,4}/)(?:[^\\s()<>]+|\\(([^\\s()<>]+|(\\([^\\s()<>]+\\)))*\\))+(?:\\(([^\\s()<>]+|(\\([^\\s()<>]+\\)))*\\)|[^\\s`!()\\[\\]{};:'\\\".,<>?«»“”‘’]))\"\n",
    "    text = re.sub(url_regex, '', raw_text)\n",
    "\n",
    "    return text\n",
    "\n",
    "# remove unnecessary symbols\n",
    "def remove_noise_symbols(raw_text):\n",
    "    text = raw_text.replace('\"', '')\n",
    "    text = text.replace(\"'\", '')\n",
    "    text = text.replace(\"!\", '')\n",
    "    text = text.replace(\"`\", '')\n",
    "    text = text.replace(\"..\", '')\n",
    "\n",
    "    return text\n",
    "\n",
    "# remove stopwords\n",
    "def remove_stopwords(raw_text):\n",
    "    tokenize = nltk.word_tokenize(raw_text)\n",
    "    text = [word for word in tokenize if not word.lower() in stop_words]\n",
    "    text = \" \".join(text)\n",
    "    return text\n",
    "\n",
    "## this function in to clean all the dataset by utilizing all the function above\n",
    "def preprocess(datas):\n",
    "    clean = []\n",
    "    # change the @xxx into \"user\"\n",
    "    clean = [change_user(text) for text in datas]\n",
    "    # remove emojis (specifically unicode emojis)\n",
    "    clean = [remove_entity(text) for text in clean]\n",
    "    # remove urls\n",
    "    clean = [remove_url(text) for text in clean]\n",
    "    # remove trailing stuff\n",
    "    clean = [remove_noise_symbols(text) for text in clean]\n",
    "    # remove stopwords\n",
    "    clean = [remove_stopwords(text) for text in clean]\n",
    "\n",
    "    return clean"
   ]
  },
  {
   "cell_type": "code",
   "execution_count": 8,
   "id": "fc62fa0d",
   "metadata": {
    "execution": {
     "iopub.execute_input": "2023-12-14T19:09:27.346833Z",
     "iopub.status.busy": "2023-12-14T19:09:27.346568Z",
     "iopub.status.idle": "2023-12-14T19:09:32.828741Z",
     "shell.execute_reply": "2023-12-14T19:09:32.827772Z"
    },
    "papermill": {
     "duration": 5.491728,
     "end_time": "2023-12-14T19:09:32.831006",
     "exception": false,
     "start_time": "2023-12-14T19:09:27.339278",
     "status": "completed"
    },
    "tags": []
   },
   "outputs": [],
   "source": [
    "# call the cleaning function\n",
    "clean_tweet = preprocess(tweet)"
   ]
  },
  {
   "cell_type": "code",
   "execution_count": 9,
   "id": "12613b51",
   "metadata": {},
   "outputs": [
    {
     "data": {
      "text/plain": [
       "['hello himanshu name deepak', '']"
      ]
     },
     "execution_count": 9,
     "metadata": {},
     "output_type": "execute_result"
    }
   ],
   "source": [
    "text = [\"hello himanshu my name is deepak\", \"how are you\"]\n",
    "preprocess(text)"
   ]
  },
  {
   "cell_type": "code",
   "execution_count": 10,
   "id": "27b7bffa",
   "metadata": {},
   "outputs": [
    {
     "data": {
      "text/plain": [
       "['']"
      ]
     },
     "execution_count": 10,
     "metadata": {},
     "output_type": "execute_result"
    }
   ],
   "source": [
    "preprocess([\"how are you\"])"
   ]
  },
  {
   "cell_type": "markdown",
   "id": "14902565",
   "metadata": {
    "papermill": {
     "duration": 0.006479,
     "end_time": "2023-12-14T19:09:32.844323",
     "exception": false,
     "start_time": "2023-12-14T19:09:32.837844",
     "status": "completed"
    },
    "tags": []
   },
   "source": [
    "# 4| Splitting the dataset into test and validation"
   ]
  },
  {
   "cell_type": "code",
   "execution_count": 11,
   "id": "899c356d",
   "metadata": {
    "execution": {
     "iopub.execute_input": "2023-12-14T19:09:32.858535Z",
     "iopub.status.busy": "2023-12-14T19:09:32.858250Z",
     "iopub.status.idle": "2023-12-14T19:09:32.876150Z",
     "shell.execute_reply": "2023-12-14T19:09:32.875305Z"
    },
    "papermill": {
     "duration": 0.027113,
     "end_time": "2023-12-14T19:09:32.877998",
     "exception": false,
     "start_time": "2023-12-14T19:09:32.850885",
     "status": "completed"
    },
    "tags": []
   },
   "outputs": [],
   "source": [
    "X_train, X_test, y_train, y_test = train_test_split(clean_tweet, labels, test_size=0.2, random_state=42)"
   ]
  },
  {
   "cell_type": "code",
   "execution_count": 12,
   "id": "77ea6132",
   "metadata": {
    "execution": {
     "iopub.execute_input": "2023-12-14T19:09:32.892167Z",
     "iopub.status.busy": "2023-12-14T19:09:32.891602Z",
     "iopub.status.idle": "2023-12-14T19:09:33.591455Z",
     "shell.execute_reply": "2023-12-14T19:09:33.590665Z"
    },
    "papermill": {
     "duration": 0.709423,
     "end_time": "2023-12-14T19:09:33.593790",
     "exception": false,
     "start_time": "2023-12-14T19:09:32.884367",
     "status": "completed"
    },
    "tags": []
   },
   "outputs": [],
   "source": [
    "## Tokenizing -> basically we use tokenisation for many things, its commonly used for feature extraction in preprocessing. btw idk how it works as feature extraction tho :(\n",
    "# declare the tokenizer\n",
    "tokenizer = Tokenizer()\n",
    "# build the vocabulary based on train dataset\n",
    "tokenizer.fit_on_texts(X_train)\n",
    "# tokenize the train and test dataset\n",
    "X_train = tokenizer.texts_to_sequences(X_train)\n",
    "X_test = tokenizer.texts_to_sequences(X_test)\n",
    "\n",
    "# vocabulary size (num of unique words) -> will be used in embedding layer\n",
    "vocab_size = len(tokenizer.word_index) + 1"
   ]
  },
  {
   "cell_type": "code",
   "execution_count": 13,
   "id": "21dfb59a",
   "metadata": {
    "execution": {
     "iopub.execute_input": "2023-12-14T19:09:33.608314Z",
     "iopub.status.busy": "2023-12-14T19:09:33.608046Z",
     "iopub.status.idle": "2023-12-14T19:09:33.715213Z",
     "shell.execute_reply": "2023-12-14T19:09:33.714451Z"
    },
    "papermill": {
     "duration": 0.116562,
     "end_time": "2023-12-14T19:09:33.717276",
     "exception": false,
     "start_time": "2023-12-14T19:09:33.600714",
     "status": "completed"
    },
    "tags": []
   },
   "outputs": [],
   "source": [
    "## Padding -> to uniform the datas\n",
    "max_length = max(len(seq) for seq in X_train)\n",
    "\n",
    "# to test an outlier case (if one of the test dataset has longer length)\n",
    "for x in X_test:\n",
    "    if len(x) > max_length:\n",
    "        print(f\"an outlier detected: {x}\")\n",
    "\n",
    "X_train = pad_sequences(X_train, maxlen = max_length)\n",
    "X_test = pad_sequences(X_test, maxlen = max_length)"
   ]
  },
  {
   "cell_type": "code",
   "execution_count": 14,
   "id": "fa224d3f",
   "metadata": {},
   "outputs": [
    {
     "data": {
      "text/plain": [
       "array([   0,    0,    0,    0,    0,    0,    0,    0,    0,    0,    0,\n",
       "          1,    1,  125,  407,   56,  479,   12,  154,  542, 8364,  689,\n",
       "       1471,  215,  532,  130], dtype=int32)"
      ]
     },
     "execution_count": 14,
     "metadata": {},
     "output_type": "execute_result"
    }
   ],
   "source": [
    "X_train[0]"
   ]
  },
  {
   "cell_type": "code",
   "execution_count": 15,
   "id": "8753ac91",
   "metadata": {},
   "outputs": [
    {
     "data": {
      "text/plain": [
       "(18671, 26)"
      ]
     },
     "execution_count": 15,
     "metadata": {},
     "output_type": "execute_result"
    }
   ],
   "source": [
    "vocab_size, max_length"
   ]
  },
  {
   "cell_type": "code",
   "execution_count": 16,
   "id": "9521b5cc",
   "metadata": {
    "execution": {
     "iopub.execute_input": "2023-12-14T19:09:33.732003Z",
     "iopub.status.busy": "2023-12-14T19:09:33.731484Z",
     "iopub.status.idle": "2023-12-14T19:09:33.737774Z",
     "shell.execute_reply": "2023-12-14T19:09:33.736961Z"
    },
    "papermill": {
     "duration": 0.015717,
     "end_time": "2023-12-14T19:09:33.739731",
     "exception": false,
     "start_time": "2023-12-14T19:09:33.724014",
     "status": "completed"
    },
    "tags": []
   },
   "outputs": [],
   "source": [
    "y_test = to_categorical(y_test, num_classes=3)\n",
    "y_train = to_categorical(y_train, num_classes=3)"
   ]
  },
  {
   "cell_type": "code",
   "execution_count": 17,
   "id": "f7f23a2d",
   "metadata": {},
   "outputs": [
    {
     "data": {
      "text/plain": [
       "array([[1., 0., 0.],\n",
       "       [0., 0., 1.],\n",
       "       [0., 1., 0.],\n",
       "       ...,\n",
       "       [0., 1., 0.],\n",
       "       [0., 1., 0.],\n",
       "       [0., 1., 0.]])"
      ]
     },
     "execution_count": 17,
     "metadata": {},
     "output_type": "execute_result"
    }
   ],
   "source": [
    "y_train"
   ]
  },
  {
   "cell_type": "code",
   "execution_count": 18,
   "id": "850a3b71",
   "metadata": {
    "execution": {
     "iopub.execute_input": "2023-12-14T19:09:33.754374Z",
     "iopub.status.busy": "2023-12-14T19:09:33.754129Z",
     "iopub.status.idle": "2023-12-14T19:09:33.758613Z",
     "shell.execute_reply": "2023-12-14T19:09:33.757676Z"
    },
    "papermill": {
     "duration": 0.014126,
     "end_time": "2023-12-14T19:09:33.760507",
     "exception": false,
     "start_time": "2023-12-14T19:09:33.746381",
     "status": "completed"
    },
    "tags": []
   },
   "outputs": [
    {
     "name": "stdout",
     "output_type": "stream",
     "text": [
      "num test tweet: 4957\n",
      "num train tweet: 19826\n"
     ]
    }
   ],
   "source": [
    "# another look on the number of tweet in test and training data\n",
    "\n",
    "print(f\"num test tweet: {y_test.shape[0]}\")\n",
    "print(f\"num train tweet: {y_train.shape[0]}\")"
   ]
  },
  {
   "cell_type": "markdown",
   "id": "6e448587",
   "metadata": {
    "papermill": {
     "duration": 0.006263,
     "end_time": "2023-12-14T19:09:33.773255",
     "exception": false,
     "start_time": "2023-12-14T19:09:33.766992",
     "status": "completed"
    },
    "tags": []
   },
   "source": [
    "# 5| Building the model"
   ]
  },
  {
   "cell_type": "code",
   "execution_count": 19,
   "id": "fa113a4a",
   "metadata": {
    "execution": {
     "iopub.execute_input": "2023-12-14T19:09:33.787181Z",
     "iopub.status.busy": "2023-12-14T19:09:33.786897Z",
     "iopub.status.idle": "2023-12-14T19:09:33.793976Z",
     "shell.execute_reply": "2023-12-14T19:09:33.793167Z"
    },
    "papermill": {
     "duration": 0.016174,
     "end_time": "2023-12-14T19:09:33.795867",
     "exception": false,
     "start_time": "2023-12-14T19:09:33.779693",
     "status": "completed"
    },
    "tags": []
   },
   "outputs": [],
   "source": [
    "import numpy as np\n",
    "\n",
    "def recall(y_true, y_pred):\n",
    "    # Clip predictions to the range [0, 1] and round them\n",
    "    y_pred = np.clip(y_pred, 0, 1)\n",
    "    y_pred = np.round(y_pred)\n",
    "    \n",
    "    # Calculate true positives and possible positives\n",
    "    true_positives = np.sum(y_true * y_pred)\n",
    "    possible_positives = np.sum(y_true)\n",
    "    \n",
    "    # Calculate recall\n",
    "    recall = true_positives / (possible_positives + np.finfo(float).eps)\n",
    "    return recall\n",
    "\n",
    "def precision(y_true, y_pred):\n",
    "    # Clip predictions to the range [0, 1] and round them\n",
    "    y_pred = np.clip(y_pred, 0, 1)\n",
    "    y_pred = np.round(y_pred)\n",
    "    \n",
    "    # Calculate true positives and predicted positives\n",
    "    true_positives = np.sum(y_true * y_pred)\n",
    "    predicted_positives = np.sum(y_pred)\n",
    "    \n",
    "    # Calculate precision\n",
    "    precision = true_positives / (predicted_positives + np.finfo(float).eps)\n",
    "    return precision\n",
    "\n",
    "def f1(y_true, y_pred):\n",
    "    # Calculate precision and recall\n",
    "    precisions = precision(y_true, y_pred)\n",
    "    recalls = recall(y_true, y_pred)\n",
    "    \n",
    "    # Calculate F1 score\n",
    "    f1_score = 2 * ((precisions * recalls) / (precisions + recalls + np.finfo(float).eps))\n",
    "    return f1_score\n"
   ]
  },
  {
   "cell_type": "code",
   "execution_count": 20,
   "id": "08c6be07",
   "metadata": {},
   "outputs": [],
   "source": [
    "import tensorflow as tf\n",
    "from tensorflow.keras import backend as K\n",
    "from tensorflow.keras.utils import get_custom_objects\n",
    "\n",
    "# Register the custom metric\n",
    "@tf.keras.utils.register_keras_serializable()\n",
    "class F1Score(tf.keras.metrics.Metric):\n",
    "    def __init__(self, name=\"f1_score\", **kwargs):\n",
    "        super(F1Score, self).__init__(name=name, **kwargs)\n",
    "        self.precision = tf.keras.metrics.Precision()\n",
    "        self.recall = tf.keras.metrics.Recall()\n",
    "\n",
    "    def update_state(self, y_true, y_pred, sample_weight=None):\n",
    "        self.precision.update_state(y_true, y_pred, sample_weight)\n",
    "        self.recall.update_state(y_true, y_pred, sample_weight)\n",
    "\n",
    "    def result(self):\n",
    "        precision = self.precision.result()\n",
    "        recall = self.recall.result()\n",
    "        return 2 * ((precision * recall) / (precision + recall + K.epsilon()))\n",
    "\n",
    "    def reset_states(self):\n",
    "        self.precision.reset_states()\n",
    "        self.recall.reset_states()\n",
    "\n",
    "# Optionally, register the custom metric so you can reference it by name\n",
    "get_custom_objects().update({\"f1_score\": F1Score})\n"
   ]
  },
  {
   "cell_type": "code",
   "execution_count": 21,
   "id": "0fbbc9bb",
   "metadata": {
    "execution": {
     "iopub.execute_input": "2023-12-14T19:09:33.810043Z",
     "iopub.status.busy": "2023-12-14T19:09:33.809755Z",
     "iopub.status.idle": "2023-12-14T19:09:36.825198Z",
     "shell.execute_reply": "2023-12-14T19:09:36.824396Z"
    },
    "papermill": {
     "duration": 3.024844,
     "end_time": "2023-12-14T19:09:36.827341",
     "exception": false,
     "start_time": "2023-12-14T19:09:33.802497",
     "status": "completed"
    },
    "tags": []
   },
   "outputs": [
    {
     "name": "stderr",
     "output_type": "stream",
     "text": [
      "/opt/anaconda3/envs/venv/lib/python3.10/site-packages/keras/src/layers/core/embedding.py:90: UserWarning: Argument `input_length` is deprecated. Just remove it.\n",
      "  warnings.warn(\n"
     ]
    }
   ],
   "source": [
    "from tensorflow.keras.metrics import Precision, Recall\n",
    "\n",
    "# change dis if u want\n",
    "output_dim = 200\n",
    "\n",
    "# LSTM model architechture (CNN + LSTM)\n",
    "model = Sequential([\n",
    "    # embedding layer is like idk\n",
    "    Embedding(vocab_size, output_dim, input_length=max_length),\n",
    "    # lstm for xxx\n",
    "    LSTM(64, dropout=0.3, recurrent_dropout=0.3),\n",
    "    # dropout to prevent overfitting\n",
    "    Dropout(0.5),\n",
    "    # dense to connect the previous output with current layer\n",
    "    Dense(128, activation=\"relu\"),\n",
    "    # dropout to prevent overfitting\n",
    "    Dropout(0.5),\n",
    "    # this is output layer, with 3 class (0, 1, 2)\n",
    "    Dense(3, activation=\"softmax\"),\n",
    "])\n",
    "\n",
    "model.compile(optimizer='adam', loss='categorical_crossentropy', metrics=['accuracy', Precision(name='precision'), Recall(name='recall')])"
   ]
  },
  {
   "cell_type": "code",
   "execution_count": 22,
   "id": "9a053bf4",
   "metadata": {
    "execution": {
     "iopub.execute_input": "2023-12-14T19:09:36.842273Z",
     "iopub.status.busy": "2023-12-14T19:09:36.842001Z",
     "iopub.status.idle": "2023-12-14T19:09:36.864998Z",
     "shell.execute_reply": "2023-12-14T19:09:36.864093Z"
    },
    "papermill": {
     "duration": 0.037598,
     "end_time": "2023-12-14T19:09:36.871798",
     "exception": false,
     "start_time": "2023-12-14T19:09:36.834200",
     "status": "completed"
    },
    "tags": []
   },
   "outputs": [
    {
     "data": {
      "text/html": [
       "<pre style=\"white-space:pre;overflow-x:auto;line-height:normal;font-family:Menlo,'DejaVu Sans Mono',consolas,'Courier New',monospace\"><span style=\"font-weight: bold\">Model: \"sequential\"</span>\n",
       "</pre>\n"
      ],
      "text/plain": [
       "\u001b[1mModel: \"sequential\"\u001b[0m\n"
      ]
     },
     "metadata": {},
     "output_type": "display_data"
    },
    {
     "data": {
      "text/html": [
       "<pre style=\"white-space:pre;overflow-x:auto;line-height:normal;font-family:Menlo,'DejaVu Sans Mono',consolas,'Courier New',monospace\">┏━━━━━━━━━━━━━━━━━━━━━━━━━━━━━━━━━┳━━━━━━━━━━━━━━━━━━━━━━━━┳━━━━━━━━━━━━━━━┓\n",
       "┃<span style=\"font-weight: bold\"> Layer (type)                    </span>┃<span style=\"font-weight: bold\"> Output Shape           </span>┃<span style=\"font-weight: bold\">       Param # </span>┃\n",
       "┡━━━━━━━━━━━━━━━━━━━━━━━━━━━━━━━━━╇━━━━━━━━━━━━━━━━━━━━━━━━╇━━━━━━━━━━━━━━━┩\n",
       "│ embedding (<span style=\"color: #0087ff; text-decoration-color: #0087ff\">Embedding</span>)           │ ?                      │   <span style=\"color: #00af00; text-decoration-color: #00af00\">0</span> (unbuilt) │\n",
       "├─────────────────────────────────┼────────────────────────┼───────────────┤\n",
       "│ lstm (<span style=\"color: #0087ff; text-decoration-color: #0087ff\">LSTM</span>)                     │ ?                      │   <span style=\"color: #00af00; text-decoration-color: #00af00\">0</span> (unbuilt) │\n",
       "├─────────────────────────────────┼────────────────────────┼───────────────┤\n",
       "│ dropout (<span style=\"color: #0087ff; text-decoration-color: #0087ff\">Dropout</span>)               │ ?                      │             <span style=\"color: #00af00; text-decoration-color: #00af00\">0</span> │\n",
       "├─────────────────────────────────┼────────────────────────┼───────────────┤\n",
       "│ dense (<span style=\"color: #0087ff; text-decoration-color: #0087ff\">Dense</span>)                   │ ?                      │   <span style=\"color: #00af00; text-decoration-color: #00af00\">0</span> (unbuilt) │\n",
       "├─────────────────────────────────┼────────────────────────┼───────────────┤\n",
       "│ dropout_1 (<span style=\"color: #0087ff; text-decoration-color: #0087ff\">Dropout</span>)             │ ?                      │             <span style=\"color: #00af00; text-decoration-color: #00af00\">0</span> │\n",
       "├─────────────────────────────────┼────────────────────────┼───────────────┤\n",
       "│ dense_1 (<span style=\"color: #0087ff; text-decoration-color: #0087ff\">Dense</span>)                 │ ?                      │   <span style=\"color: #00af00; text-decoration-color: #00af00\">0</span> (unbuilt) │\n",
       "└─────────────────────────────────┴────────────────────────┴───────────────┘\n",
       "</pre>\n"
      ],
      "text/plain": [
       "┏━━━━━━━━━━━━━━━━━━━━━━━━━━━━━━━━━┳━━━━━━━━━━━━━━━━━━━━━━━━┳━━━━━━━━━━━━━━━┓\n",
       "┃\u001b[1m \u001b[0m\u001b[1mLayer (type)                   \u001b[0m\u001b[1m \u001b[0m┃\u001b[1m \u001b[0m\u001b[1mOutput Shape          \u001b[0m\u001b[1m \u001b[0m┃\u001b[1m \u001b[0m\u001b[1m      Param #\u001b[0m\u001b[1m \u001b[0m┃\n",
       "┡━━━━━━━━━━━━━━━━━━━━━━━━━━━━━━━━━╇━━━━━━━━━━━━━━━━━━━━━━━━╇━━━━━━━━━━━━━━━┩\n",
       "│ embedding (\u001b[38;5;33mEmbedding\u001b[0m)           │ ?                      │   \u001b[38;5;34m0\u001b[0m (unbuilt) │\n",
       "├─────────────────────────────────┼────────────────────────┼───────────────┤\n",
       "│ lstm (\u001b[38;5;33mLSTM\u001b[0m)                     │ ?                      │   \u001b[38;5;34m0\u001b[0m (unbuilt) │\n",
       "├─────────────────────────────────┼────────────────────────┼───────────────┤\n",
       "│ dropout (\u001b[38;5;33mDropout\u001b[0m)               │ ?                      │             \u001b[38;5;34m0\u001b[0m │\n",
       "├─────────────────────────────────┼────────────────────────┼───────────────┤\n",
       "│ dense (\u001b[38;5;33mDense\u001b[0m)                   │ ?                      │   \u001b[38;5;34m0\u001b[0m (unbuilt) │\n",
       "├─────────────────────────────────┼────────────────────────┼───────────────┤\n",
       "│ dropout_1 (\u001b[38;5;33mDropout\u001b[0m)             │ ?                      │             \u001b[38;5;34m0\u001b[0m │\n",
       "├─────────────────────────────────┼────────────────────────┼───────────────┤\n",
       "│ dense_1 (\u001b[38;5;33mDense\u001b[0m)                 │ ?                      │   \u001b[38;5;34m0\u001b[0m (unbuilt) │\n",
       "└─────────────────────────────────┴────────────────────────┴───────────────┘\n"
      ]
     },
     "metadata": {},
     "output_type": "display_data"
    },
    {
     "data": {
      "text/html": [
       "<pre style=\"white-space:pre;overflow-x:auto;line-height:normal;font-family:Menlo,'DejaVu Sans Mono',consolas,'Courier New',monospace\"><span style=\"font-weight: bold\"> Total params: </span><span style=\"color: #00af00; text-decoration-color: #00af00\">0</span> (0.00 B)\n",
       "</pre>\n"
      ],
      "text/plain": [
       "\u001b[1m Total params: \u001b[0m\u001b[38;5;34m0\u001b[0m (0.00 B)\n"
      ]
     },
     "metadata": {},
     "output_type": "display_data"
    },
    {
     "data": {
      "text/html": [
       "<pre style=\"white-space:pre;overflow-x:auto;line-height:normal;font-family:Menlo,'DejaVu Sans Mono',consolas,'Courier New',monospace\"><span style=\"font-weight: bold\"> Trainable params: </span><span style=\"color: #00af00; text-decoration-color: #00af00\">0</span> (0.00 B)\n",
       "</pre>\n"
      ],
      "text/plain": [
       "\u001b[1m Trainable params: \u001b[0m\u001b[38;5;34m0\u001b[0m (0.00 B)\n"
      ]
     },
     "metadata": {},
     "output_type": "display_data"
    },
    {
     "data": {
      "text/html": [
       "<pre style=\"white-space:pre;overflow-x:auto;line-height:normal;font-family:Menlo,'DejaVu Sans Mono',consolas,'Courier New',monospace\"><span style=\"font-weight: bold\"> Non-trainable params: </span><span style=\"color: #00af00; text-decoration-color: #00af00\">0</span> (0.00 B)\n",
       "</pre>\n"
      ],
      "text/plain": [
       "\u001b[1m Non-trainable params: \u001b[0m\u001b[38;5;34m0\u001b[0m (0.00 B)\n"
      ]
     },
     "metadata": {},
     "output_type": "display_data"
    }
   ],
   "source": [
    "# checking the model parameters\n",
    "model.summary()"
   ]
  },
  {
   "cell_type": "code",
   "execution_count": 23,
   "id": "04c83e48",
   "metadata": {
    "execution": {
     "iopub.execute_input": "2023-12-14T19:09:36.889204Z",
     "iopub.status.busy": "2023-12-14T19:09:36.888914Z",
     "iopub.status.idle": "2023-12-14T19:16:02.328905Z",
     "shell.execute_reply": "2023-12-14T19:16:02.327763Z"
    },
    "papermill": {
     "duration": 385.45119,
     "end_time": "2023-12-14T19:16:02.331269",
     "exception": false,
     "start_time": "2023-12-14T19:09:36.880079",
     "status": "completed"
    },
    "tags": []
   },
   "outputs": [
    {
     "name": "stdout",
     "output_type": "stream",
     "text": [
      "Epoch 1/2\n",
      "\u001b[1m310/310\u001b[0m \u001b[32m━━━━━━━━━━━━━━━━━━━━\u001b[0m\u001b[37m\u001b[0m \u001b[1m10s\u001b[0m 29ms/step - accuracy: 0.7894 - loss: 0.6214 - precision: 0.8135 - recall: 0.6948 - val_accuracy: 0.8892 - val_loss: 0.3286 - val_precision: 0.9037 - val_recall: 0.8745\n",
      "Epoch 2/2\n",
      "\u001b[1m310/310\u001b[0m \u001b[32m━━━━━━━━━━━━━━━━━━━━\u001b[0m\u001b[37m\u001b[0m \u001b[1m9s\u001b[0m 28ms/step - accuracy: 0.9146 - loss: 0.2635 - precision: 0.9263 - recall: 0.9056 - val_accuracy: 0.8894 - val_loss: 0.3103 - val_precision: 0.8986 - val_recall: 0.8792\n"
     ]
    }
   ],
   "source": [
    "# Train the model\n",
    "model_history = model.fit(\n",
    "    X_train,\n",
    "    y_train,\n",
    "    batch_size = 64,\n",
    "    epochs=2,\n",
    "    validation_data=(X_test, y_test)\n",
    ")"
   ]
  },
  {
   "cell_type": "code",
   "execution_count": 24,
   "id": "6c4a16c9",
   "metadata": {
    "execution": {
     "iopub.execute_input": "2023-12-14T19:16:02.845140Z",
     "iopub.status.busy": "2023-12-14T19:16:02.844395Z",
     "iopub.status.idle": "2023-12-14T19:16:03.146651Z",
     "shell.execute_reply": "2023-12-14T19:16:03.145796Z"
    },
    "papermill": {
     "duration": 0.559682,
     "end_time": "2023-12-14T19:16:03.148779",
     "exception": false,
     "start_time": "2023-12-14T19:16:02.589097",
     "status": "completed"
    },
    "tags": []
   },
   "outputs": [
    {
     "data": {
      "image/png": "[encoded data removed]",
      "text/plain": [
       "<Figure size 640x480 with 1 Axes>"
      ]
     },
     "metadata": {},
     "output_type": "display_data"
    }
   ],
   "source": [
    "import matplotlib.pyplot as plt\n",
    "hist = model.history.history\n",
    "plt.plot(hist['loss'],'r',linewidth=2, label='Training loss')\n",
    "plt.plot(hist['val_loss'], 'g',linewidth=2, label='Validation loss')\n",
    "plt.title('Hate Speech and Offensive language Model')\n",
    "plt.xlabel('Epochs numbers')\n",
    "plt.ylabel('MSE numbers')\n",
    "plt.show()"
   ]
  },
  {
   "cell_type": "markdown",
   "id": "fb7db29c",
   "metadata": {},
   "source": [
    "# Saving the model"
   ]
  },
  {
   "cell_type": "code",
   "execution_count": 25,
   "id": "4410cacf",
   "metadata": {},
   "outputs": [],
   "source": [
    "# Save the entire model\n",
    "model.save('./saved_model/my_model.keras')"
   ]
  },
  {
   "cell_type": "code",
   "execution_count": 26,
   "id": "ef4d7c62",
   "metadata": {},
   "outputs": [],
   "source": [
    "import pickle\n",
    "\n",
    "# Save the tokenizer\n",
    "with open('./saved_model/tokenizer.pkl', 'wb') as file:\n",
    "    pickle.dump(tokenizer, file)\n"
   ]
  },
  {
   "cell_type": "code",
   "execution_count": null,
   "id": "4db72ef5",
   "metadata": {},
   "outputs": [],
   "source": []
  }
 ],
 "metadata": {
  "kaggle": {
   "accelerator": "gpu",
   "dataSources": [
    {
     "datasetId": 4096079,
     "sourceId": 7105074,
     "sourceType": "datasetVersion"
    }
   ],
   "dockerImageVersionId": 30627,
   "isGpuEnabled": true,
   "isInternetEnabled": true,
   "language": "python",
   "sourceType": "notebook"
  },
  "kernelspec": {
   "display_name": "Python 3",
   "language": "python",
   "name": "python3"
  },
  "language_info": {
   "codemirror_mode": {
    "name": "ipython",
    "version": 3
   },
   "file_extension": ".py",
   "mimetype": "text/x-python",
   "name": "python",
   "nbconvert_exporter": "python",
   "pygments_lexer": "ipython3",
   "version": "3.10.12"
  },
  "papermill": {
   "default_parameters": {},
   "duration": 415.657241,
   "end_time": "2023-12-14T19:16:06.580704",
   "environment_variables": {},
   "exception": null,
   "input_path": "__notebook__.ipynb",
   "output_path": "__notebook__.ipynb",
   "parameters": {},
   "start_time": "2023-12-14T19:09:10.923463",
   "version": "2.4.0"
  }
 },
 "nbformat": 4,
 "nbformat_minor": 5
}
